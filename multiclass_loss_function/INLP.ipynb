{
 "cells": [
  {
   "cell_type": "markdown",
   "source": [
    "## Model niet juist maar lukt niet met pooler output\n",
    "zelf proberen een array te maken van alleen de last hidden state?"
   ],
   "metadata": {
    "collapsed": false,
    "pycharm": {
     "name": "#%% md\n"
    }
   }
  },
  {
   "cell_type": "code",
   "execution_count": 93,
   "metadata": {
    "collapsed": true
   },
   "outputs": [],
   "source": [
    "import glob\n",
    "import logging\n",
    "import os\n",
    "import pickle\n",
    "import random\n",
    "import re\n",
    "import shutil\n",
    "import copy\n",
    "from typing import Dict, List, Tuple\n",
    "\n",
    "import nltk\n",
    "import numpy as np\n",
    "import torch\n",
    "from torch.nn.utils.rnn import pad_sequence\n",
    "from torch.utils.data import DataLoader, Dataset, RandomSampler, SequentialSampler\n",
    "from torch.utils.data.distributed import DistributedSampler\n",
    "from tqdm import tqdm, trange\n",
    "\n",
    "from transformers import (MODEL_WITH_LM_HEAD_MAPPING, WEIGHTS_NAME, AdamW, AutoConfig, AutoModelWithLMHead, AutoTokenizer, PreTrainedModel, PreTrainedTokenizer, get_linear_schedule_with_warmup, BertModel)\n",
    "\n",
    "try:\n",
    "    from torch.utils.tensorboard import SummaryWriter\n",
    "except ImportError:\n",
    "    from tensorboardX import SummaryWriter"
   ]
  },
  {
   "cell_type": "code",
   "execution_count": 94,
   "outputs": [],
   "source": [
    "class Args():\n",
    "\n",
    "    model_type='bert'\n",
    "    #model_name_or_path=\"bert-base-uncased\"\n",
    "    model_name_or_path='./debiased_models/bert/debiased-checkpoint-best'\n",
    "    cache_dir=None\n",
    "    run_id=1\n",
    "    device=-1\n",
    "    batch_size=32\n",
    "\n",
    "args=Args()"
   ],
   "metadata": {
    "collapsed": false,
    "pycharm": {
     "name": "#%%\n"
    }
   }
  },
  {
   "cell_type": "code",
   "execution_count": 95,
   "outputs": [],
   "source": [
    "def open_file(file_path):\n",
    "    with open(file_path) as f:\n",
    "        output_file=f.read().splitlines()\n",
    "\n",
    "    return output_file\n",
    "\n",
    "def encode_all_lines(data):\n",
    "    encoded_data=[]\n",
    "    for i in range(len(data)):\n",
    "        encoded_data.append(torch.tensor(tokenizer.encode(data[i], add_special_tokens=True)))\n",
    "    return encoded_data"
   ],
   "metadata": {
    "collapsed": false,
    "pycharm": {
     "name": "#%%\n"
    }
   }
  },
  {
   "cell_type": "code",
   "execution_count": 96,
   "outputs": [
    {
     "name": "stderr",
     "output_type": "stream",
     "text": [
      "Some weights of the model checkpoint at ./debiased_models/bert/debiased-checkpoint-best were not used when initializing BertModel: ['cls.predictions.bias', 'cls.predictions.decoder.bias', 'cls.predictions.transform.LayerNorm.bias', 'cls.predictions.transform.dense.bias', 'cls.predictions.decoder.weight', 'cls.predictions.transform.LayerNorm.weight', 'cls.predictions.transform.dense.weight']\n",
      "- This IS expected if you are initializing BertModel from the checkpoint of a model trained on another task or with another architecture (e.g. initializing a BertForSequenceClassification model from a BertForPreTraining model).\n",
      "- This IS NOT expected if you are initializing BertModel from the checkpoint of a model that you expect to be exactly identical (initializing a BertForSequenceClassification model from a BertForSequenceClassification model).\n",
      "Some weights of BertModel were not initialized from the model checkpoint at ./debiased_models/bert/debiased-checkpoint-best and are newly initialized: ['bert.pooler.dense.weight', 'bert.pooler.dense.bias']\n",
      "You should probably TRAIN this model on a down-stream task to be able to use it for predictions and inference.\n"
     ]
    }
   ],
   "source": [
    "device=\"cpu\" if args.device==-1 else \"cuda:{}\".format(args.device)\n",
    "\n",
    "config=AutoConfig.from_pretrained(args.model_name_or_path, cache_dir=args.cache_dir)\n",
    "config.output_hidden_states='true'\n",
    "\n",
    "tokenizer=AutoTokenizer.from_pretrained(args.model_name_or_path, cache_dir=args.cache_dir)\n",
    "\n",
    "block_size=tokenizer.model_max_length\n",
    "\n",
    "#model=AutoModelWithLMHead.from_pretrained(args.model_name_or_path, from_tf=bool(\".ckpt\" in args.model_name_or_path), config=config, cache_dir=args.cache_dir)\n",
    "\n",
    "model=BertModel.from_pretrained(args.model_name_or_path, from_tf=bool(\".ckpt\" in args.model_name_or_path), config=config, cache_dir=args.cache_dir)\n",
    "\n",
    "model.to(device)\n",
    "model.eval()\n",
    "\n",
    "rand_seed=args.run_id"
   ],
   "metadata": {
    "collapsed": false,
    "pycharm": {
     "name": "#%%\n"
    }
   }
  },
  {
   "cell_type": "code",
   "execution_count": 97,
   "outputs": [],
   "source": [
    "if not os.path.exists(\"encodings\"):\n",
    "    os.makedirs(\"encodings\")"
   ],
   "metadata": {
    "collapsed": false,
    "pycharm": {
     "name": "#%%\n"
    }
   }
  },
  {
   "cell_type": "code",
   "execution_count": 98,
   "outputs": [],
   "source": [
    "gender_attr=open_file('./attribute_target_words/attributes/gender.txt')\n",
    "occupation_stereo_target=open_file('./attribute_target_words/targets/gender_stereotype.txt')"
   ],
   "metadata": {
    "collapsed": false,
    "pycharm": {
     "name": "#%%\n"
    }
   }
  },
  {
   "cell_type": "code",
   "execution_count": 99,
   "outputs": [],
   "source": [
    "def encode(nlp_model, nlp_tokenizer, texts, args):\n",
    "\n",
    "    all_H=[]\n",
    "    nlp_model.eval()\n",
    "    with torch.no_grad():\n",
    "\n",
    "        print(\"Encoding...\")\n",
    "        batch_size=args.batch_size\n",
    "        pbar=tqdm(range(len(texts)), ascii=True)\n",
    "\n",
    "        for i in range(0, len(texts)-batch_size, batch_size):\n",
    "\n",
    "            batch_texts=texts[i: i+batch_size]\n",
    "\n",
    "            batch_encoding=nlp_tokenizer.batch_encode_plus(batch_texts, padding=True, max_length=512, truncation=True)\n",
    "            input_ids, token_type_ids, attention_mask=batch_encoding[\"input_ids\"], batch_encoding[\"token_type_ids\"], batch_encoding[\"attention_mask\"]\n",
    "            input_ids=torch.tensor(input_ids).to(device)\n",
    "            token_type_ids=torch.tensor(token_type_ids).to(device)\n",
    "            attention_mask=torch.tensor(attention_mask).to(device)\n",
    "            H=nlp_model(input_ids=input_ids, token_type_ids=token_type_ids, attention_mask=attention_mask).pooler_output\n",
    "            #H=np.array(nlp_model(input_ids=input_ids, token_type_ids=token_type_ids, attention_mask=attention_mask).hidden_states)\n",
    "            assert len(H.shape)==2\n",
    "            all_H.append(H.detach().cpu().numpy())\n",
    "\n",
    "            pbar.update(batch_size)\n",
    "\n",
    "        remaining=texts[(len(texts)//args.batch_size)*args.batch_size:]\n",
    "        if len(remaining)>0:\n",
    "            batch_encoding=nlp_tokenizer.batch_encode_plus(remaining, padding=True, max_length=512, truncation=True)\n",
    "            input_ids, token_type_ids, attention_mask = batch_encoding[\"input_ids\"], batch_encoding[\"token_type_ids\"], batch_encoding[\"attention_mask\"]\n",
    "            input_ids = torch.tensor(input_ids).to(device)\n",
    "            token_type_ids = torch.tensor(token_type_ids).to(device)\n",
    "            attention_mask = torch.tensor(attention_mask).to(device)\n",
    "            H = nlp_model(input_ids=input_ids, token_type_ids=token_type_ids, attention_mask=attention_mask).pooler_output\n",
    "            assert len(H.shape) == 2\n",
    "            all_H.append(H.detach().cpu().numpy())\n",
    "\n",
    "    H_np=np.concatenate(all_H)\n",
    "    assert len(H_np.shape)==2\n",
    "    assert len(H_np)==len(texts)\n",
    "    return H_np"
   ],
   "metadata": {
    "collapsed": false,
    "pycharm": {
     "name": "#%%\n"
    }
   }
  },
  {
   "cell_type": "code",
   "execution_count": 100,
   "outputs": [
    {
     "name": "stdout",
     "output_type": "stream",
     "text": [
      "Encoding...\n"
     ]
    },
    {
     "name": "stderr",
     "output_type": "stream",
     "text": [
      "100%|#########9| 448/450 [00:02<00:00, 151.93it/s]\n"
     ]
    }
   ],
   "source": [
    "H=encode(model, tokenizer, gender_attr, args)"
   ],
   "metadata": {
    "collapsed": false,
    "pycharm": {
     "name": "#%%\n"
    }
   }
  }
 ],
 "metadata": {
  "kernelspec": {
   "display_name": "Python 3",
   "language": "python",
   "name": "python3"
  },
  "language_info": {
   "codemirror_mode": {
    "name": "ipython",
    "version": 2
   },
   "file_extension": ".py",
   "mimetype": "text/x-python",
   "name": "python",
   "nbconvert_exporter": "python",
   "pygments_lexer": "ipython2",
   "version": "2.7.6"
  }
 },
 "nbformat": 4,
 "nbformat_minor": 0
}