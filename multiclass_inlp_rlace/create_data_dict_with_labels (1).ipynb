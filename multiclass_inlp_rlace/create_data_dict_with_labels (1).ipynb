{
 "cells": [
  {
   "cell_type": "code",
   "execution_count": 27,
   "id": "014bafb3",
   "metadata": {},
   "outputs": [],
   "source": [
    "from collections import defaultdict\n",
    "import pickle"
   ]
  },
  {
   "cell_type": "code",
   "execution_count": 20,
   "id": "ba6fdb89",
   "metadata": {},
   "outputs": [],
   "source": [
    "file='gender_w_label.txt'\n",
    "\n",
    "data=[word.strip().split() for word in open(file)]\n",
    "#data=list(set(data))"
   ]
  },
  {
   "cell_type": "code",
   "execution_count": 22,
   "id": "3f484a70",
   "metadata": {},
   "outputs": [],
   "source": [
    "gender_dict=defaultdict()"
   ]
  },
  {
   "cell_type": "code",
   "execution_count": 23,
   "id": "4b511bc3",
   "metadata": {},
   "outputs": [],
   "source": [
    "for i in range(len(data)):\n",
    "    gender_dict[data[i][1]]=data[i][0]"
   ]
  },
  {
   "cell_type": "code",
   "execution_count": 28,
   "id": "59f84044",
   "metadata": {},
   "outputs": [],
   "source": [
    "with open('gender_with_labels.pickle', 'wb') as f:\n",
    "    pickle.dump(gender_dict, f)"
   ]
  },
  {
   "cell_type": "code",
   "execution_count": null,
   "id": "09107859",
   "metadata": {},
   "outputs": [],
   "source": []
  }
 ],
 "metadata": {
  "kernelspec": {
   "display_name": "Python 3 (ipykernel)",
   "language": "python",
   "name": "python3"
  },
  "language_info": {
   "codemirror_mode": {
    "name": "ipython",
    "version": 3
   },
   "file_extension": ".py",
   "mimetype": "text/x-python",
   "name": "python",
   "nbconvert_exporter": "python",
   "pygments_lexer": "ipython3",
   "version": "3.9.12"
  }
 },
 "nbformat": 4,
 "nbformat_minor": 5
}
