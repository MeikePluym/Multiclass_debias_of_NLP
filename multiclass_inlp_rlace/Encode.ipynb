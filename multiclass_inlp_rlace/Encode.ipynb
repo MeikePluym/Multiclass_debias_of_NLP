{
 "cells": [
  {
   "cell_type": "code",
   "execution_count": 63,
   "id": "8d9244d3",
   "metadata": {},
   "outputs": [
    {
     "name": "stderr",
     "output_type": "stream",
     "text": [
      "  0%|          | 0/8977 [40:19<?, ?it/s]\n",
      "  0%|          | 0/8977 [24:21<?, ?it/s]\n"
     ]
    }
   ],
   "source": [
    "import glob\n",
    "import logging\n",
    "import os\n",
    "import pickle\n",
    "import random\n",
    "import re\n",
    "import shutil\n",
    "import copy\n",
    "from typing import Dict, List, Tuple\n",
    "import nltk\n",
    "import numpy as np\n",
    "import torch\n",
    "from torch.nn.utils.rnn import pad_sequence\n",
    "from torch.utils.data import DataLoader, Dataset, RandomSampler, SequentialSampler\n",
    "from torch.utils.data.distributed import DistributedSampler\n",
    "from tqdm import tqdm, trange\n",
    "from transformers import (MODEL_WITH_LM_HEAD_MAPPING, WEIGHTS_NAME, AdamW, AutoConfig, AutoModelWithLMHead, AutoTokenizer, \n",
    "                          PreTrainedModel, PreTrainedTokenizer, get_linear_schedule_with_warmup, BertModel, DistilBertModel, AlbertModel)\n",
    "from sklearn.manifold import TSNE\n",
    "import matplotlib.pyplot as plt\n",
    "\n",
    "try:\n",
    "    from torch.utils.tensorbord import SummaryWriter\n",
    "except ImportError:\n",
    "    from tensorboardX import SummaryWriter"
   ]
  },
  {
   "cell_type": "code",
   "execution_count": 2,
   "id": "e1b359ba",
   "metadata": {},
   "outputs": [],
   "source": [
    "class Args():\n",
    "    \n",
    "    model_type='bert'\n",
    "    model_name_or_path='bert-base-uncased'\n",
    "    cache_dir=None\n",
    "    run_id=1\n",
    "    device=-1\n",
    "    batch_size=32\n",
    "    \n",
    "    pickle_file_train='gender_stereo_data_for_inlp_train'\n",
    "    pickle_file_dev='gender_stereo_data_for_inlp_dev'\n",
    "    \n",
    "args=Args()"
   ]
  },
  {
   "cell_type": "code",
   "execution_count": 52,
   "id": "62324800",
   "metadata": {},
   "outputs": [],
   "source": [
    "def load_pickle(pickle_file):\n",
    "    with open(\"./data_for_inlp/{}/{}.pickle\".format(args.model_type, pickle_file), \"rb\") as f:\n",
    "        data=pickle.load(f)\n",
    "        label=np.array([1 if d[\"g\"]==\"m\" else 0 for d in data])\n",
    "        txts=[d[\"text\"] for d in data]\n",
    "        stereo=[d[\"s\"] for d in data]\n",
    "    return txts, stereo, label"
   ]
  },
  {
   "cell_type": "code",
   "execution_count": 4,
   "id": "9bb48861",
   "metadata": {
    "scrolled": false
   },
   "outputs": [
    {
     "name": "stderr",
     "output_type": "stream",
     "text": [
      "Some weights of the model checkpoint at bert-base-uncased were not used when initializing BertModel: ['cls.predictions.transform.LayerNorm.weight', 'cls.predictions.transform.dense.bias', 'cls.predictions.transform.LayerNorm.bias', 'cls.predictions.bias', 'cls.seq_relationship.bias', 'cls.predictions.decoder.weight', 'cls.seq_relationship.weight', 'cls.predictions.transform.dense.weight']\n",
      "- This IS expected if you are initializing BertModel from the checkpoint of a model trained on another task or with another architecture (e.g. initializing a BertForSequenceClassification model from a BertForPreTraining model).\n",
      "- This IS NOT expected if you are initializing BertModel from the checkpoint of a model that you expect to be exactly identical (initializing a BertForSequenceClassification model from a BertForSequenceClassification model).\n"
     ]
    }
   ],
   "source": [
    "device=\"cpu\" if args.device==-1 else \"cuda:{}\".format(args.device)\n",
    "\n",
    "config=AutoConfig.from_pretrained(args.model_name_or_path, cache_dir=args.cache_dir)\n",
    "config.output_hidden_states='true'\n",
    "\n",
    "pretrained_weights=args.model_name_or_path\n",
    "\n",
    "if args.model_type=='bert':\n",
    "    model=BertModel.from_pretrained(pretrained_weights, config=config, cache_dir=args.cache_dir)\n",
    "elif args.model_type=='dbert':\n",
    "    model=DistilBertModel.from_pretrained(pretrained_weights, config=config, cache_dir=args.cache_dir)\n",
    "\n",
    "tokenizer=AutoTokenizer.from_pretrained(args.model_name_or_path, cache_dir=args.cache_dir)\n",
    "\n",
    "block_size=tokenizer.model_max_length\n",
    "\n",
    "model.to(device)\n",
    "model.eval()\n",
    "\n",
    "rand_seed=args.run_id"
   ]
  },
  {
   "cell_type": "code",
   "execution_count": 31,
   "id": "e3d7c794",
   "metadata": {},
   "outputs": [],
   "source": [
    "if not os.path.exists(\"encodings\"):\n",
    "    os.makedirs(\"encodings\")"
   ]
  },
  {
   "cell_type": "code",
   "execution_count": 53,
   "id": "79e7d1d7",
   "metadata": {},
   "outputs": [],
   "source": [
    "data_file_train, stereo_train, label_train=load_pickle(args.pickle_file_train)\n",
    "data_file_dev, stereo_dev, label_dev=load_pickle(args.pickle_file_dev)"
   ]
  },
  {
   "cell_type": "code",
   "execution_count": 37,
   "id": "c101f554",
   "metadata": {},
   "outputs": [],
   "source": [
    "def encode(nlp_model, nlp_tokenizer, texts, stereo, args):\n",
    "    \n",
    "    all_H=[]\n",
    "    all_stereo=[]\n",
    "    nlp_model.eval()\n",
    "    with torch.no_grad():\n",
    "        \n",
    "        print(\"Encoding...\")\n",
    "        batch_size=args.batch_size\n",
    "        pbar=tqdm(range(len(texts)), ascii=True)\n",
    "        \n",
    "        for i in range(0, len(texts)-batch_size, batch_size):\n",
    "            \n",
    "            batch_texts=texts[i: i+batch_size]\n",
    "            batch_stereo=stereo[i: i+batch_size]\n",
    "            \n",
    "            batch_encoding=nlp_tokenizer.batch_encode_plus(batch_texts, padding=True, max_length=512, truncation=True)\n",
    "\n",
    "            if args.model_type=='bert' or args.model_type=='albert':\n",
    "                input_ids, token_type_ids, attention_mask=batch_encoding[\"input_ids\"], batch_encoding[\"token_type_ids\"], batch_encoding[\"attention_mask\"]\n",
    "                stereo_output=nlp_tokenizer.batch_encode_plus(batch_stereo, padding=True, max_length=512, truncation=True, add_special_tokens=False)\n",
    "                stereo_index=[input_ids[k].index(stereo_output.input_ids[k][0]) for k in range(len(input_ids))]\n",
    "\n",
    "                input_ids=torch.tensor(input_ids).to(device)\n",
    "                token_type_ids=torch.tensor(token_type_ids).to(device)\n",
    "                attention_mask=torch.tensor(attention_mask).to(device)\n",
    "\n",
    "                H=nlp_model(input_ids=input_ids, token_type_ids=token_type_ids, attention_mask=attention_mask).pooler_output\n",
    "            elif args.model_type=='dbert':\n",
    "                input_ids, attention_mask=batch_encoding[\"input_ids\"], batch_encoding[\"attention_mask\"]\n",
    "                input_ids=torch.tensor(input_ids).to(device)\n",
    "                attention_mask=torch.tensor(attention_mask).to(device)\n",
    "                #below is the equivalent to the pooler_ouput from BERT for the DistilBert model; a fixed-size vector representation of the entire input sequence\n",
    "                hiddens=nlp_model(input_ids=input_ids, attention_mask=attention_mask)[0]\n",
    "                H=hiddens[:, 0, :]\n",
    "            \n",
    "            assert len(H.shape)==2\n",
    "            all_H.append(H.detach().cpu().numpy())\n",
    "            all_stereo.append(stereo_index)\n",
    "            pbar.update(batch_size)\n",
    "        \n",
    "        remaining=texts[(len(texts)//args.batch_size)*args.batch_size:]\n",
    "        remaining_stereo=stereo[(len(stereo)//args.batch_size)*args.batch_size:]\n",
    "        if len(remaining)>0:\n",
    "            \n",
    "            batch_encoding=nlp_tokenizer.batch_encode_plus(remaining, padding=True, max_length=512, truncation=True)\n",
    "\n",
    "            if args.model_type=='bert' or args.model_type=='albert':\n",
    "                input_ids, token_type_ids, attention_mask=batch_encoding[\"input_ids\"], batch_encoding[\"token_type_ids\"], batch_encoding[\"attention_mask\"]\n",
    "                stereo_output=nlp_tokenizer.batch_encode_plus(remaining_stereo, padding=True, max_length=512, truncation=True, add_special_tokens=False)\n",
    "                stereo_index=[input_ids[k].index(stereo_output.input_ids[k][0]) for k in range(len(input_ids))]\n",
    "\n",
    "                input_ids=torch.tensor(input_ids).to(device)\n",
    "                token_type_ids=torch.tensor(token_type_ids).to(device)\n",
    "                attention_mask=torch.tensor(attention_mask).to(device)\n",
    "\n",
    "                H=nlp_model(input_ids=input_ids, token_type_ids=token_type_ids, attention_mask=attention_mask).pooler_output\n",
    "            elif args.model_type=='dbert':\n",
    "                input_ids, attention_mask=batch_encoding[\"input_ids\"], batch_encoding[\"attention_mask\"]\n",
    "                input_ids=torch.tensor(input_ids).to(device)\n",
    "                attention_mask=torch.tensor(attention_mask).to(device)\n",
    "                #below is the equivalent to the pooler_ouput from BERT for the DistilBert model; a fixed-size vector representation of the entire input sequence\n",
    "                hiddens=nlp_model(input_ids=input_ids, attention_mask=attention_mask)[0]\n",
    "                H=hiddens[:, 0, :]\n",
    "\n",
    "            #H=nlp_model(input_ids=input_ids, token_type_ids=token_type_ids, attention_mask=attention_mask).pooler_output\n",
    "            \n",
    "            assert len(H.shape)==2\n",
    "            all_H.append(H.detach().cpu().numpy())\n",
    "            all_stereo.append(stereo_index)\n",
    "        \n",
    "    H_np=np.concatenate(all_H)\n",
    "    assert len(H_np.shape)==2\n",
    "    assert len(H_np)==len(texts)\n",
    "    return H_np, all_stereo"
   ]
  },
  {
   "cell_type": "code",
   "execution_count": 38,
   "id": "7f73d5de",
   "metadata": {},
   "outputs": [
    {
     "name": "stdout",
     "output_type": "stream",
     "text": [
      "Encoding...\n"
     ]
    },
    {
     "name": "stderr",
     "output_type": "stream",
     "text": [
      "100%|#########9| 8960/8977 [12:58<00:01, 11.51it/s]\n"
     ]
    }
   ],
   "source": [
    "H_train, stereo_train=encode(model, tokenizer, data_file_train, stereo_train, args)"
   ]
  },
  {
   "cell_type": "code",
   "execution_count": 48,
   "id": "cd4d18ab",
   "metadata": {},
   "outputs": [
    {
     "name": "stdout",
     "output_type": "stream",
     "text": [
      "Encoding...\n"
     ]
    },
    {
     "name": "stderr",
     "output_type": "stream",
     "text": [
      " 99%|#########9| 992/997 [01:30<00:00, 10.93it/s]\n"
     ]
    }
   ],
   "source": [
    "H_dev, stereo_dev=encode(model, tokenizer, data_file_dev, stereo_dev, args)"
   ]
  },
  {
   "cell_type": "code",
   "execution_count": 36,
   "id": "bfe90b46",
   "metadata": {
    "pycharm": {
     "name": "#%%\n"
    }
   },
   "outputs": [],
   "source": [
    "if not os.path.exists(\"encodings/{}\".format(args.model_type)):\n",
    "    os.makedirs(\"encodings/{}\".format(args.model_type))\n",
    "\n",
    "path_train=\"encodings/{}/{}.npy\".format(args.model_type, args.pickle_file_train)\n",
    "np.save(path_train, H_train)\n",
    "\n",
    "path_dev=\"encodings/{}/{}.npy\".format(args.model_type, args.pickle_file_dev)\n",
    "np.save(path_dev, H_dev)"
   ]
  }
 ],
 "metadata": {
  "kernelspec": {
   "display_name": "Python 3 (ipykernel)",
   "language": "python",
   "name": "python3"
  },
  "language_info": {
   "codemirror_mode": {
    "name": "ipython",
    "version": 3
   },
   "file_extension": ".py",
   "mimetype": "text/x-python",
   "name": "python",
   "nbconvert_exporter": "python",
   "pygments_lexer": "ipython3",
   "version": "3.9.12"
  }
 },
 "nbformat": 4,
 "nbformat_minor": 5
}