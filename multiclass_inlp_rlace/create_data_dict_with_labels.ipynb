{
 "cells": [
  {
   "cell_type": "markdown",
   "source": [
    "## Volgens mij wordt deze file niet gebruikt"
   ],
   "metadata": {
    "collapsed": false,
    "pycharm": {
     "name": "#%% md\n"
    }
   }
  },
  {
   "cell_type": "code",
   "execution_count": 1,
   "id": "014bafb3",
   "metadata": {},
   "outputs": [],
   "source": [
    "from collections import defaultdict\n",
    "import os\n",
    "import pickle"
   ]
  },
  {
   "cell_type": "code",
   "execution_count": null,
   "outputs": [],
   "source": [
    "text_file_type='gender_w_label.txt'\n",
    "output_type='gender_w_label.pickle'"
   ],
   "metadata": {
    "collapsed": false,
    "pycharm": {
     "name": "#%%\n"
    }
   }
  },
  {
   "cell_type": "code",
   "execution_count": 20,
   "id": "ba6fdb89",
   "metadata": {},
   "outputs": [],
   "source": [
    "text_file_w_labels='./attribute_target_words/with_label/{}'.format(text_file_type)\n",
    "output_file='./attribute_target_words/with_label/{}'.format(output_type)\n",
    "dict=defaultdict()\n",
    "\n",
    "data=[word.strip().split() for word in open(text_file_w_labels)]\n",
    "\n",
    "for i in range(len(data)):\n",
    "    dict[data[i][1]]=data[i][0]\n",
    "\n",
    "with open(output_file, 'wb') as f:\n",
    "    pickle.dump(dict, f)"
   ]
  },
  {
   "cell_type": "code",
   "execution_count": null,
   "id": "09107859",
   "metadata": {},
   "outputs": [],
   "source": []
  }
 ],
 "metadata": {
  "kernelspec": {
   "display_name": "Python 3 (ipykernel)",
   "language": "python",
   "name": "python3"
  },
  "language_info": {
   "codemirror_mode": {
    "name": "ipython",
    "version": 3
   },
   "file_extension": ".py",
   "mimetype": "text/x-python",
   "name": "python",
   "nbconvert_exporter": "python",
   "pygments_lexer": "ipython3",
   "version": "3.9.12"
  }
 },
 "nbformat": 4,
 "nbformat_minor": 5
}