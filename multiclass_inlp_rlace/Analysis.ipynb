{
 "cells": [
  {
   "cell_type": "code",
   "execution_count": 83,
   "id": "4c753000",
   "metadata": {},
   "outputs": [],
   "source": [
    "import sys\n",
    "import os\n",
    "\n",
    "from sklearn.linear_model import SGDClassifier, LinearRegression, Lasso, Ridge\n",
    "from sklearn.utils import shuffle\n",
    "from sklearn.decomposition import PCA\n",
    "import seaborn as sn\n",
    "import random\n",
    "from sklearn.metrics.pairwise import cosine_similarity\n",
    "from collections import defaultdict\n",
    "from sklearn.manifold import TSNE\n",
    "import tqdm\n",
    "import copy\n",
    "from sklearn.svm import LinearSVC \n",
    "\n",
    "from sklearn.cross_decomposition import PLSRegression\n",
    "from sklearn.decomposition import TruncatedSVD\n",
    "import torch\n",
    "from sklearn.linear_model import SGDClassifier\n",
    "\n",
    "from sklearn.svm import LinearSVC\n",
    "\n",
    "import sklearn\n",
    "from sklearn.linear_model import LogisticRegression\n",
    "import random\n",
    "import pickle\n",
    "import matplotlib.pyplot as plt\n",
    "from sklearn import cluster\n",
    "from sklearn import neural_network\n",
    "from gensim.models.keyedvectors import Word2VecKeyedVectors\n",
    "from gensim.models import KeyedVectors\n",
    "import numpy as np\n",
    "import warnings\n",
    "import argparse\n",
    "from sklearn.neural_network import MLPClassifier\n",
    "from collections import defaultdict\n",
    "import scipy\n",
    "from scipy import stats\n",
    "from scipy.stats import pearsonr\n",
    "import pandas as pd\n",
    "from collections import Counter"
   ]
  },
  {
   "cell_type": "code",
   "execution_count": 95,
   "id": "2f297f17",
   "metadata": {},
   "outputs": [],
   "source": [
    "class Args():\n",
    "    \n",
    "    model_type='bert'\n",
    "    run_id=1\n",
    "    file_train='gender_data_for_inlp_train'\n",
    "    file_dev='gender_data_for_inlp_dev'\n",
    "    file_test='gender_data_for_inlp_dev'\n",
    "    \n",
    "args=Args()"
   ]
  },
  {
   "cell_type": "code",
   "execution_count": 96,
   "id": "eae00759",
   "metadata": {},
   "outputs": [],
   "source": [
    "def load_data(args, file):\n",
    "    \n",
    "    with open(file, \"rb\") as f:\n",
    "        data=pickle.load(f)\n",
    "        z=np.array([1 if d[\"g\"]==\"f\" else 0 for d in data])\n",
    "        stereotypes=np.array([d[\"s\"] for d in data])\n",
    "        txts=[d[\"text\"] for d in data]\n",
    "    \n",
    "    return z, txts, stereotypes, data\n",
    "\n",
    "def load_data_representations(args, file, seed=0):\n",
    "    \n",
    "    X=np.load(\"encodings/{}/{}.npy\".format(args.model_type, file))\n",
    "    \n",
    "    with open(\"pca/pca_{}_{}.pickle\".format(args.model_type, args.run_id), \"rb\") as f:\n",
    "        pca=pickle.load(f)\n",
    "    #X=pca.transform(X)\n",
    "    \n",
    "    return X\n",
    "\n",
    "def load_projections(proj_type, seed=0):\n",
    "    \n",
    "    with open(\"interim/{}/{}/Ps_{}.pickle\".format(args.model_type, proj_type, proj_type), \"rb\") as f:\n",
    "        rank2P=pickle.load(f)\n",
    "        \n",
    "        return rank2P             "
   ]
  },
  {
   "cell_type": "code",
   "execution_count": 97,
   "id": "dbc121fa",
   "metadata": {},
   "outputs": [],
   "source": [
    "pickle_file_train=\"./data_for_inlp/{}.pickle\".format(args.file_train)\n",
    "pickle_file_dev=\"./data_for_inlp/{}.pickle\".format(args.file_dev)\n",
    "pickle_file_test=\"./data_for_inlp/{}.pickle\".format(args.file_test)\n",
    "\n",
    "z_train,txts_train,stereotypes_train,train = load_data(args, pickle_file_train)\n",
    "z_test,txts_test,stereotypes_test,test = load_data(args, pickle_file_test)\n",
    "z_dev,txts_dev,stereotypes_dev,dev = load_data(args, pickle_file_dev)\n",
    "\n",
    "if False and os.path.exists(\"analysis/\") and os.path.exists(\"analysis/mode2x.pickle\") and os.path.exists(\"analysis/mode2p.pickle\"):\n",
    "    with open(\"analysis/mode2p.pickle\", \"rb\") as f:\n",
    "        mode2p = pickle.load(f)\n",
    "    with open(\"analysis/mode2x.pickle\", \"rb\") as f:\n",
    "        mode2x = pickle.load(f)\n",
    "        \n",
    "else:\n",
    "    if not os.path.exists(\"analysis\"): os.mkdir(\"analysis\")\n",
    "    mode2x = defaultdict(dict)\n",
    "    mode2p = defaultdict(dict)\n",
    "    \n",
    "    mode2x[\"train\"]=load_data_representations(args, args.file_train)\n",
    "    mode2x[\"dev\"]=load_data_representations(args, args.file_dev)\n",
    "    mode2x[\"test\"]=load_data_representations(args, args.file_test)\n",
    "    \n",
    "    for projtype in [\"rlace\", \"inlp\"]:\n",
    "        rank2P=load_projections(projtype)\n",
    "        mode2p[projtype]=rank2P\n",
    "        \n",
    "    with open(\"analysis/mode2x.pickle\", \"wb\") as f:\n",
    "        pickle.dump(mode2x, f)\n",
    "    with open(\"analysis/mode2p.pickle\", \"wb\") as f:\n",
    "        pickle.dump(mode2p, f)"
   ]
  },
  {
   "cell_type": "code",
   "execution_count": 75,
   "outputs": [],
   "source": [
    "with open(\"analysis/mode2x.pickle\", \"rb\") as f:\n",
    "        mode2x = pickle.load(f)\n",
    "with open(\"analysis/mode2p.pickle\", \"rb\") as f:\n",
    "        mode2p = pickle.load(f)"
   ],
   "metadata": {
    "collapsed": false,
    "pycharm": {
     "name": "#%%\n"
    }
   }
  },
  {
   "cell_type": "code",
   "execution_count": 94,
   "outputs": [
    {
     "data": {
      "text/plain": "array([[ 0.86083723,  0.00171831, -0.01482523, ..., -0.01353893,\n         0.01134055,  0.00336108],\n       [ 0.00171831,  0.88098708, -0.03664158, ...,  0.02406714,\n         0.02616294,  0.02370538],\n       [-0.01482523, -0.03664158,  0.8756203 , ...,  0.0021001 ,\n        -0.01014365,  0.01036156],\n       ...,\n       [-0.01353893,  0.02406714,  0.0021001 , ...,  0.83550497,\n         0.01150772,  0.03501471],\n       [ 0.01134055,  0.02616294, -0.01014365, ...,  0.01150772,\n         0.84399478,  0.00261797],\n       [ 0.00336108,  0.02370538,  0.01036156, ...,  0.03501471,\n         0.00261797,  0.81423792]])"
     },
     "execution_count": 94,
     "metadata": {},
     "output_type": "execute_result"
    }
   ],
   "source": [
    "mode2p['inlp'][0][99]"
   ],
   "metadata": {
    "collapsed": false,
    "pycharm": {
     "name": "#%%\n"
    }
   }
  },
  {
   "cell_type": "markdown",
   "source": [
    "## classifiers"
   ],
   "metadata": {
    "collapsed": false,
    "pycharm": {
     "name": "#%% md\n"
    }
   }
  },
  {
   "cell_type": "code",
   "execution_count": 51,
   "outputs": [
    {
     "name": "stderr",
     "output_type": "stream",
     "text": [
      "c:\\users\\31631\\appdata\\local\\programs\\python\\python39\\lib\\site-packages\\sklearn\\linear_model\\_stochastic_gradient.py:696: ConvergenceWarning: Maximum number of iteration reached before convergence. Consider increasing max_iter to improve the fit.\n",
      "  warnings.warn(\n",
      "c:\\users\\31631\\appdata\\local\\programs\\python\\python39\\lib\\site-packages\\sklearn\\linear_model\\_stochastic_gradient.py:696: ConvergenceWarning: Maximum number of iteration reached before convergence. Consider increasing max_iter to improve the fit.\n",
      "  warnings.warn(\n"
     ]
    },
    {
     "name": "stdout",
     "output_type": "stream",
     "text": [
      "here 0.9017051153460381 0.43931795386158473\n",
      "rlace 1\n"
     ]
    },
    {
     "name": "stderr",
     "output_type": "stream",
     "text": [
      "c:\\users\\31631\\appdata\\local\\programs\\python\\python39\\lib\\site-packages\\sklearn\\linear_model\\_stochastic_gradient.py:696: ConvergenceWarning: Maximum number of iteration reached before convergence. Consider increasing max_iter to improve the fit.\n",
      "  warnings.warn(\n",
      "c:\\users\\31631\\appdata\\local\\programs\\python\\python39\\lib\\site-packages\\sklearn\\linear_model\\_stochastic_gradient.py:696: ConvergenceWarning: Maximum number of iteration reached before convergence. Consider increasing max_iter to improve the fit.\n",
      "  warnings.warn(\n"
     ]
    },
    {
     "name": "stdout",
     "output_type": "stream",
     "text": [
      "here 0.43430290872617855 0.6529588766298897\n",
      "rlace 4\n"
     ]
    },
    {
     "name": "stderr",
     "output_type": "stream",
     "text": [
      "c:\\users\\31631\\appdata\\local\\programs\\python\\python39\\lib\\site-packages\\sklearn\\linear_model\\_stochastic_gradient.py:696: ConvergenceWarning: Maximum number of iteration reached before convergence. Consider increasing max_iter to improve the fit.\n",
      "  warnings.warn(\n",
      "c:\\users\\31631\\appdata\\local\\programs\\python\\python39\\lib\\site-packages\\sklearn\\linear_model\\_stochastic_gradient.py:696: ConvergenceWarning: Maximum number of iteration reached before convergence. Consider increasing max_iter to improve the fit.\n",
      "  warnings.warn(\n"
     ]
    },
    {
     "name": "stdout",
     "output_type": "stream",
     "text": [
      "here 0.43229689067201604 0.7291875626880642\n",
      "rlace 8\n"
     ]
    },
    {
     "name": "stderr",
     "output_type": "stream",
     "text": [
      "c:\\users\\31631\\appdata\\local\\programs\\python\\python39\\lib\\site-packages\\sklearn\\linear_model\\_stochastic_gradient.py:696: ConvergenceWarning: Maximum number of iteration reached before convergence. Consider increasing max_iter to improve the fit.\n",
      "  warnings.warn(\n",
      "c:\\users\\31631\\appdata\\local\\programs\\python\\python39\\lib\\site-packages\\sklearn\\linear_model\\_stochastic_gradient.py:696: ConvergenceWarning: Maximum number of iteration reached before convergence. Consider increasing max_iter to improve the fit.\n",
      "  warnings.warn(\n"
     ]
    },
    {
     "name": "stdout",
     "output_type": "stream",
     "text": [
      "here 0.45235707121364094 0.6810431293881645\n",
      "rlace 16\n"
     ]
    },
    {
     "name": "stderr",
     "output_type": "stream",
     "text": [
      "c:\\users\\31631\\appdata\\local\\programs\\python\\python39\\lib\\site-packages\\sklearn\\linear_model\\_stochastic_gradient.py:696: ConvergenceWarning: Maximum number of iteration reached before convergence. Consider increasing max_iter to improve the fit.\n",
      "  warnings.warn(\n",
      "c:\\users\\31631\\appdata\\local\\programs\\python\\python39\\lib\\site-packages\\sklearn\\linear_model\\_stochastic_gradient.py:696: ConvergenceWarning: Maximum number of iteration reached before convergence. Consider increasing max_iter to improve the fit.\n",
      "  warnings.warn(\n"
     ]
    },
    {
     "name": "stdout",
     "output_type": "stream",
     "text": [
      "here 0.43430290872617855 0.7121364092276831\n",
      "rlace 32\n"
     ]
    },
    {
     "name": "stderr",
     "output_type": "stream",
     "text": [
      "c:\\users\\31631\\appdata\\local\\programs\\python\\python39\\lib\\site-packages\\sklearn\\linear_model\\_stochastic_gradient.py:696: ConvergenceWarning: Maximum number of iteration reached before convergence. Consider increasing max_iter to improve the fit.\n",
      "  warnings.warn(\n",
      "c:\\users\\31631\\appdata\\local\\programs\\python\\python39\\lib\\site-packages\\sklearn\\linear_model\\_stochastic_gradient.py:696: ConvergenceWarning: Maximum number of iteration reached before convergence. Consider increasing max_iter to improve the fit.\n",
      "  warnings.warn(\n"
     ]
    },
    {
     "name": "stdout",
     "output_type": "stream",
     "text": [
      "here 0.4242728184553661 0.7031093279839519\n",
      "rlace 50\n"
     ]
    },
    {
     "name": "stderr",
     "output_type": "stream",
     "text": [
      "c:\\users\\31631\\appdata\\local\\programs\\python\\python39\\lib\\site-packages\\sklearn\\linear_model\\_stochastic_gradient.py:696: ConvergenceWarning: Maximum number of iteration reached before convergence. Consider increasing max_iter to improve the fit.\n",
      "  warnings.warn(\n",
      "c:\\users\\31631\\appdata\\local\\programs\\python\\python39\\lib\\site-packages\\sklearn\\linear_model\\_stochastic_gradient.py:696: ConvergenceWarning: Maximum number of iteration reached before convergence. Consider increasing max_iter to improve the fit.\n",
      "  warnings.warn(\n"
     ]
    },
    {
     "name": "stdout",
     "output_type": "stream",
     "text": [
      "here 0.42126379137412234 0.7833500501504513\n",
      "rlace 64\n"
     ]
    },
    {
     "name": "stderr",
     "output_type": "stream",
     "text": [
      "c:\\users\\31631\\appdata\\local\\programs\\python\\python39\\lib\\site-packages\\sklearn\\linear_model\\_stochastic_gradient.py:696: ConvergenceWarning: Maximum number of iteration reached before convergence. Consider increasing max_iter to improve the fit.\n",
      "  warnings.warn(\n",
      "c:\\users\\31631\\appdata\\local\\programs\\python\\python39\\lib\\site-packages\\sklearn\\linear_model\\_stochastic_gradient.py:696: ConvergenceWarning: Maximum number of iteration reached before convergence. Consider increasing max_iter to improve the fit.\n",
      "  warnings.warn(\n"
     ]
    },
    {
     "name": "stdout",
     "output_type": "stream",
     "text": [
      "here 0.4092276830491474 0.7642928786359077\n",
      "rlace 100\n"
     ]
    },
    {
     "name": "stderr",
     "output_type": "stream",
     "text": [
      "c:\\users\\31631\\appdata\\local\\programs\\python\\python39\\lib\\site-packages\\sklearn\\linear_model\\_stochastic_gradient.py:696: ConvergenceWarning: Maximum number of iteration reached before convergence. Consider increasing max_iter to improve the fit.\n",
      "  warnings.warn(\n",
      "c:\\users\\31631\\appdata\\local\\programs\\python\\python39\\lib\\site-packages\\sklearn\\linear_model\\_stochastic_gradient.py:696: ConvergenceWarning: Maximum number of iteration reached before convergence. Consider increasing max_iter to improve the fit.\n",
      "  warnings.warn(\n"
     ]
    },
    {
     "name": "stdout",
     "output_type": "stream",
     "text": [
      "here 0.42126379137412234 0.7031093279839519\n",
      "inlp 1\n"
     ]
    },
    {
     "name": "stderr",
     "output_type": "stream",
     "text": [
      "c:\\users\\31631\\appdata\\local\\programs\\python\\python39\\lib\\site-packages\\sklearn\\linear_model\\_stochastic_gradient.py:696: ConvergenceWarning: Maximum number of iteration reached before convergence. Consider increasing max_iter to improve the fit.\n",
      "  warnings.warn(\n",
      "c:\\users\\31631\\appdata\\local\\programs\\python\\python39\\lib\\site-packages\\sklearn\\linear_model\\_stochastic_gradient.py:696: ConvergenceWarning: Maximum number of iteration reached before convergence. Consider increasing max_iter to improve the fit.\n",
      "  warnings.warn(\n"
     ]
    },
    {
     "name": "stdout",
     "output_type": "stream",
     "text": [
      "here 0.4383149448345035 0.8455366098294884\n",
      "inlp 4\n"
     ]
    },
    {
     "name": "stderr",
     "output_type": "stream",
     "text": [
      "c:\\users\\31631\\appdata\\local\\programs\\python\\python39\\lib\\site-packages\\sklearn\\linear_model\\_stochastic_gradient.py:696: ConvergenceWarning: Maximum number of iteration reached before convergence. Consider increasing max_iter to improve the fit.\n",
      "  warnings.warn(\n",
      "c:\\users\\31631\\appdata\\local\\programs\\python\\python39\\lib\\site-packages\\sklearn\\linear_model\\_stochastic_gradient.py:696: ConvergenceWarning: Maximum number of iteration reached before convergence. Consider increasing max_iter to improve the fit.\n",
      "  warnings.warn(\n"
     ]
    },
    {
     "name": "stdout",
     "output_type": "stream",
     "text": [
      "here 0.44132397191574724 0.8234704112337011\n",
      "inlp 8\n"
     ]
    },
    {
     "name": "stderr",
     "output_type": "stream",
     "text": [
      "c:\\users\\31631\\appdata\\local\\programs\\python\\python39\\lib\\site-packages\\sklearn\\linear_model\\_stochastic_gradient.py:696: ConvergenceWarning: Maximum number of iteration reached before convergence. Consider increasing max_iter to improve the fit.\n",
      "  warnings.warn(\n",
      "c:\\users\\31631\\appdata\\local\\programs\\python\\python39\\lib\\site-packages\\sklearn\\linear_model\\_stochastic_gradient.py:696: ConvergenceWarning: Maximum number of iteration reached before convergence. Consider increasing max_iter to improve the fit.\n",
      "  warnings.warn(\n"
     ]
    },
    {
     "name": "stdout",
     "output_type": "stream",
     "text": [
      "here 0.4453360080240722 0.7833500501504513\n",
      "inlp 16\n"
     ]
    },
    {
     "name": "stderr",
     "output_type": "stream",
     "text": [
      "c:\\users\\31631\\appdata\\local\\programs\\python\\python39\\lib\\site-packages\\sklearn\\linear_model\\_stochastic_gradient.py:696: ConvergenceWarning: Maximum number of iteration reached before convergence. Consider increasing max_iter to improve the fit.\n",
      "  warnings.warn(\n",
      "c:\\users\\31631\\appdata\\local\\programs\\python\\python39\\lib\\site-packages\\sklearn\\linear_model\\_stochastic_gradient.py:696: ConvergenceWarning: Maximum number of iteration reached before convergence. Consider increasing max_iter to improve the fit.\n",
      "  warnings.warn(\n"
     ]
    },
    {
     "name": "stdout",
     "output_type": "stream",
     "text": [
      "here 0.43329989969909727 0.6870611835506519\n",
      "inlp 32\n"
     ]
    },
    {
     "name": "stderr",
     "output_type": "stream",
     "text": [
      "c:\\users\\31631\\appdata\\local\\programs\\python\\python39\\lib\\site-packages\\sklearn\\linear_model\\_stochastic_gradient.py:696: ConvergenceWarning: Maximum number of iteration reached before convergence. Consider increasing max_iter to improve the fit.\n",
      "  warnings.warn(\n",
      "c:\\users\\31631\\appdata\\local\\programs\\python\\python39\\lib\\site-packages\\sklearn\\linear_model\\_stochastic_gradient.py:696: ConvergenceWarning: Maximum number of iteration reached before convergence. Consider increasing max_iter to improve the fit.\n",
      "  warnings.warn(\n"
     ]
    },
    {
     "name": "stdout",
     "output_type": "stream",
     "text": [
      "here 0.4182547642928786 0.7061183550651956\n",
      "inlp 50\n"
     ]
    },
    {
     "name": "stderr",
     "output_type": "stream",
     "text": [
      "c:\\users\\31631\\appdata\\local\\programs\\python\\python39\\lib\\site-packages\\sklearn\\linear_model\\_stochastic_gradient.py:696: ConvergenceWarning: Maximum number of iteration reached before convergence. Consider increasing max_iter to improve the fit.\n",
      "  warnings.warn(\n",
      "c:\\users\\31631\\appdata\\local\\programs\\python\\python39\\lib\\site-packages\\sklearn\\linear_model\\_stochastic_gradient.py:696: ConvergenceWarning: Maximum number of iteration reached before convergence. Consider increasing max_iter to improve the fit.\n",
      "  warnings.warn(\n"
     ]
    },
    {
     "name": "stdout",
     "output_type": "stream",
     "text": [
      "here 0.3901705115346038 0.7592778335005015\n",
      "inlp 64\n"
     ]
    },
    {
     "name": "stderr",
     "output_type": "stream",
     "text": [
      "c:\\users\\31631\\appdata\\local\\programs\\python\\python39\\lib\\site-packages\\sklearn\\linear_model\\_stochastic_gradient.py:696: ConvergenceWarning: Maximum number of iteration reached before convergence. Consider increasing max_iter to improve the fit.\n",
      "  warnings.warn(\n",
      "c:\\users\\31631\\appdata\\local\\programs\\python\\python39\\lib\\site-packages\\sklearn\\linear_model\\_stochastic_gradient.py:696: ConvergenceWarning: Maximum number of iteration reached before convergence. Consider increasing max_iter to improve the fit.\n",
      "  warnings.warn(\n"
     ]
    },
    {
     "name": "stdout",
     "output_type": "stream",
     "text": [
      "here 0.4292878635907723 0.79839518555667\n",
      "inlp 100\n",
      "here 0.5125376128385155 0.8194583751253761\n"
     ]
    },
    {
     "name": "stderr",
     "output_type": "stream",
     "text": [
      "c:\\users\\31631\\appdata\\local\\programs\\python\\python39\\lib\\site-packages\\sklearn\\linear_model\\_stochastic_gradient.py:696: ConvergenceWarning: Maximum number of iteration reached before convergence. Consider increasing max_iter to improve the fit.\n",
      "  warnings.warn(\n",
      "c:\\users\\31631\\appdata\\local\\programs\\python\\python39\\lib\\site-packages\\sklearn\\linear_model\\_stochastic_gradient.py:696: ConvergenceWarning: Maximum number of iteration reached before convergence. Consider increasing max_iter to improve the fit.\n",
      "  warnings.warn(\n"
     ]
    }
   ],
   "source": [
    "def train_classifier(X, y, X_dev, y_dev, X_test, y_test):\n",
    "    random.seed(0)\n",
    "    np.random.seed(0)\n",
    "\n",
    "    clf=SGDClassifier(loss=\"log\", fit_intercept=True, max_iter=3, tol=0.1*1e-3, n_iter_no_change=1)\n",
    "    #clf=LogisticRegression(warm_start=True, penalty='l2', solver=\"saga\", multi_class='multinomial', fit_intercept=True, n_jobs=64, random_state=1, max_iter=10)\n",
    "\n",
    "    clf.fit(X,y)\n",
    "    score_dev=clf.score(X_dev, y_dev)\n",
    "    score_test=clf.score(X_test, y_test)\n",
    "\n",
    "    return clf, score_dev, score_test\n",
    "\n",
    "random.seed(0)\n",
    "np.random.seed(0)\n",
    "\n",
    "stereotype_clfs=defaultdict(dict)\n",
    "attr_clfs=defaultdict(dict)\n",
    "\n",
    "for do_projection in [False, True]:\n",
    "    X_train=mode2x['train']\n",
    "    X_dev=mode2x['dev']\n",
    "    X_test=mode2x['test']\n",
    "\n",
    "    if not do_projection:\n",
    "        stereo_clf, stereo_score_dev, stereo_score_test=train_classifier(X_train, stereotypes_train, X_dev, stereotypes_dev, X_test, stereotypes_test)\n",
    "        stereotype_clfs[do_projection]={\"clf\": stereo_clf, \"dev_score\": stereo_score_dev, \"test_score\": stereo_score_test}\n",
    "\n",
    "        attr_clf, attr_score_dev, attr_score_test=train_classifier(X_train, z_train, X_dev, z_dev, X_test, z_test)\n",
    "        attr_clfs[do_projection]={\"clf\": attr_clf, \"dev_score\": attr_score_dev, \"test_score\": attr_score_test}\n",
    "\n",
    "        print(\"here\", attr_score_dev, stereo_score_dev)\n",
    "    else:\n",
    "\n",
    "        stereotype_clfs[do_projection]=defaultdict(dict)\n",
    "        attr_clfs[do_projection]=defaultdict(dict)\n",
    "\n",
    "        for projtype in [\"rlace\", \"inlp\"]:\n",
    "            for rank in [1, 4, 8, 16, 32, 50, 64, 100]:\n",
    "                print(projtype, rank)\n",
    "                P=mode2p[projtype][0][rank if projtype==\"rlace\" else rank-1]\n",
    "                stereo_clf, stereo_score_dev, stereo_score_test=train_classifier(X_train@P, stereotypes_train, X_dev@P, stereotypes_dev, X_test@P, stereotypes_test)\n",
    "                stereotype_clfs[do_projection][projtype][rank]={\"clf\": stereo_clf, \"dev_score\": stereo_score_dev, \"test_score\": stereo_score_test}\n",
    "\n",
    "                attr_clf, attr_score_dev, attr_score_test=train_classifier(X_train@P, z_train, X_dev@P, z_dev, X_test@P, z_test)\n",
    "                attr_clfs[do_projection][projtype][rank]={\"clf\": attr_clf, \"dev_score\": attr_score_dev, \"test_score\": attr_score_test}\n",
    "\n",
    "                print(\"here\", stereo_score_dev, attr_score_dev)"
   ],
   "metadata": {
    "collapsed": false,
    "pycharm": {
     "name": "#%%\n"
    }
   }
  },
  {
   "cell_type": "code",
   "execution_count": 25,
   "outputs": [],
   "source": [
    "with open(\"analysis/attr_gender_clfs.pickle\", \"wb\") as f:\n",
    "    pickle.dump(attr_clfs, f)\n",
    "\n",
    "with open(\"analysis/stereotypes_gender_clfs.pickle\", \"wb\") as f:\n",
    "    pickle.dump(stereotype_clfs, f)"
   ],
   "metadata": {
    "collapsed": false,
    "pycharm": {
     "name": "#%%\n"
    }
   }
  },
  {
   "cell_type": "code",
   "execution_count": 57,
   "outputs": [],
   "source": [
    "with open(\"analysis/attr_gender_clfs.pickle\", \"rb\") as f:\n",
    "    attr_clfs=pickle.load(f)\n",
    "\n",
    "with open(\"analysis/stereotypes_gender_clfs.pickle\", \"rb\") as f:\n",
    "    stereotype_clfs=pickle.load(f)"
   ],
   "metadata": {
    "collapsed": false,
    "pycharm": {
     "name": "#%%\n"
    }
   }
  },
  {
   "cell_type": "markdown",
   "source": [
    "## accuracy vs rank"
   ],
   "metadata": {
    "collapsed": false,
    "pycharm": {
     "name": "#%% md\n"
    }
   }
  },
  {
   "cell_type": "code",
   "execution_count": 52,
   "outputs": [],
   "source": [
    "def create_df(clf_dict, projtype, do_projection):\n",
    "    d=defaultdict(dict) if do_projection else dict()\n",
    "    ranks=[1, 4, 8, 16, 32, 50, 64, 100]\n",
    "\n",
    "    if not do_projection:\n",
    "        d=clf_dict[do_projection][\"test_score\"]\n",
    "    else:\n",
    "        for rank in ranks:\n",
    "            d[rank]=clf_dict[do_projection][projtype][rank][\"test_score\"]\n",
    "\n",
    "    try:\n",
    "        df=pd.DataFrame(d)\n",
    "    except:\n",
    "        df=pd.DataFrame({k:[v] for k,v in d.items()}, index=range(len(ranks)))\n",
    "    df['avg']=df.mean(numeric_only=True, axis=1)\n",
    "    df['std']=df.std(numeric_only=True, axis=1)\n",
    "    df.rename_axis(\"rank\", inplace=True)\n",
    "    df.reset_index(inplace=True)\n",
    "    return df\n",
    "\n",
    "def get_maj(Y):\n",
    "    c=Counter(Y)\n",
    "    p,q=list(c.values())\n",
    "    return max(p/(p+q), 1-p/(p+q))\n",
    "\n",
    "def plot(df_rlace, df_inlp, xlabel, ylabel, filename, baseline=None, baseline_label=None):\n",
    "\n",
    "    sn.set()\n",
    "\n",
    "    fig, ax=plt.subplots()\n",
    "    plt.rcParams['font.family']='Sans'\n",
    "\n",
    "    df_rlace.plot('rank', 'avg', yerr='std', ax=ax, label=\"RLACE\", marker=\"*\")\n",
    "    df_inlp.plot('rank', 'avg', yerr='std', ax=ax, label=\"INLP\", marker=\"*\")\n",
    "\n",
    "    plt.ylabel(ylabel, fontsize=18)\n",
    "    plt.xlabel(xlabel, fontsize=18)\n",
    "\n",
    "    if baseline:\n",
    "        ax.axhline(baseline, label=baseline_label, color=\"black\", linestyle=\"--\")\n",
    "\n",
    "    plt.legend(fontsize=18)\n",
    "\n",
    "    plt.yticks(fontsize=18)\n",
    "    plt.subplots_adjust(bottom=0.17)\n",
    "    plt.subplots_adjust(left=0.15)\n",
    "    #ax.figure.savefig(\"analysis/analysis-results/{}\".format(filename), dpi=700)\n",
    "\n",
    "    plt.show()"
   ],
   "metadata": {
    "collapsed": false,
    "pycharm": {
     "name": "#%%\n"
    }
   }
  },
  {
   "cell_type": "code",
   "execution_count": 53,
   "outputs": [],
   "source": [
    "proj2stereodf=defaultdict(dict)\n",
    "proj2attrdf=defaultdict(dict)\n",
    "\n",
    "#for projtype in [\"rlace\", \"inlp\", \"none\"]:\n",
    "    #if (projtype != \"none\"): continue\n",
    "\n",
    "for projtype in [\"rlace\", \"inlp\"]:\n",
    "    df=create_df(stereotype_clfs, projtype, True if projtype!=\"none\" else False)\n",
    "    proj2stereodf[projtype]=df\n",
    "\n",
    "    df=create_df(attr_clfs, projtype, True if projtype!=\"none\" else False)\n",
    "    proj2attrdf[projtype]=df"
   ],
   "metadata": {
    "collapsed": false,
    "pycharm": {
     "name": "#%%\n"
    }
   }
  },
  {
   "cell_type": "code",
   "execution_count": 54,
   "outputs": [
    {
     "data": {
      "text/plain": "<Figure size 432x288 with 1 Axes>",
      "image/png": "[encoded data removed]"
     },
     "metadata": {},
     "output_type": "display_data"
    }
   ],
   "source": [
    "plot(proj2attrdf[\"rlace\"], proj2attrdf[\"inlp\"], \"Dimensions removed\", \"Post-Projection Accuracy\", \"gender_stereo.pdf\", get_maj(z_test), baseline_label=\"Majority\")"
   ],
   "metadata": {
    "collapsed": false,
    "pycharm": {
     "name": "#%%\n"
    }
   }
  },
  {
   "cell_type": "code",
   "execution_count": null,
   "outputs": [],
   "source": [],
   "metadata": {
    "collapsed": false,
    "pycharm": {
     "name": "#%%\n"
    }
   }
  }
 ],
 "metadata": {
  "kernelspec": {
   "display_name": "Python 3 (ipykernel)",
   "language": "python",
   "name": "python3"
  },
  "language_info": {
   "codemirror_mode": {
    "name": "ipython",
    "version": 3
   },
   "file_extension": ".py",
   "mimetype": "text/x-python",
   "name": "python",
   "nbconvert_exporter": "python",
   "pygments_lexer": "ipython3",
   "version": "3.9.12"
  }
 },
 "nbformat": 4,
 "nbformat_minor": 5
}